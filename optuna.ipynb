{
 "cells": [
  {
   "cell_type": "code",
   "execution_count": 1,
   "metadata": {},
   "outputs": [],
   "source": [
    "import optuna"
   ]
  },
  {
   "cell_type": "code",
   "execution_count": 2,
   "metadata": {},
   "outputs": [],
   "source": [
    "def objective(trial):\n",
    "    x = trial.suggest_float(\"x\", -10, 10)\n",
    "    return (x-2) ** 2"
   ]
  },
  {
   "cell_type": "code",
   "execution_count": 3,
   "metadata": {},
   "outputs": [
    {
     "name": "stderr",
     "output_type": "stream",
     "text": [
      "\u001b[32m[I 2021-11-23 16:59:30,282]\u001b[0m A new study created in memory with name: no-name-62f7a3ec-df29-4050-9d42-1688332b801a\u001b[0m\n",
      "\u001b[32m[I 2021-11-23 16:59:30,284]\u001b[0m Trial 0 finished with value: 46.03991134339456 and parameters: {'x': -4.785271648459961}. Best is trial 0 with value: 46.03991134339456.\u001b[0m\n",
      "\u001b[32m[I 2021-11-23 16:59:30,285]\u001b[0m Trial 1 finished with value: 49.74503117595592 and parameters: {'x': 9.053015750440085}. Best is trial 0 with value: 46.03991134339456.\u001b[0m\n",
      "\u001b[32m[I 2021-11-23 16:59:30,286]\u001b[0m Trial 2 finished with value: 0.1448772026255324 and parameters: {'x': 1.6193726197111769}. Best is trial 2 with value: 0.1448772026255324.\u001b[0m\n",
      "\u001b[32m[I 2021-11-23 16:59:30,287]\u001b[0m Trial 3 finished with value: 0.005353081593203496 and parameters: {'x': 1.9268352435034224}. Best is trial 3 with value: 0.005353081593203496.\u001b[0m\n",
      "\u001b[32m[I 2021-11-23 16:59:30,288]\u001b[0m Trial 4 finished with value: 0.20162145936687115 and parameters: {'x': 2.4490227826813147}. Best is trial 3 with value: 0.005353081593203496.\u001b[0m\n",
      "\u001b[32m[I 2021-11-23 16:59:30,288]\u001b[0m Trial 5 finished with value: 4.225429785530977 and parameters: {'x': -0.055585022695723296}. Best is trial 3 with value: 0.005353081593203496.\u001b[0m\n",
      "\u001b[32m[I 2021-11-23 16:59:30,289]\u001b[0m Trial 6 finished with value: 5.584366087657447 and parameters: {'x': -0.36312633764203284}. Best is trial 3 with value: 0.005353081593203496.\u001b[0m\n",
      "\u001b[32m[I 2021-11-23 16:59:30,290]\u001b[0m Trial 7 finished with value: 0.004736531109676537 and parameters: {'x': 1.9311775392064732}. Best is trial 7 with value: 0.004736531109676537.\u001b[0m\n",
      "\u001b[32m[I 2021-11-23 16:59:30,291]\u001b[0m Trial 8 finished with value: 6.227776432179537 and parameters: {'x': -0.49555132829992843}. Best is trial 7 with value: 0.004736531109676537.\u001b[0m\n",
      "\u001b[32m[I 2021-11-23 16:59:30,291]\u001b[0m Trial 9 finished with value: 86.18859492891022 and parameters: {'x': -7.283781283987157}. Best is trial 7 with value: 0.004736531109676537.\u001b[0m\n",
      "\u001b[32m[I 2021-11-23 16:59:30,295]\u001b[0m Trial 10 finished with value: 16.450829318439045 and parameters: {'x': 6.055962193911458}. Best is trial 7 with value: 0.004736531109676537.\u001b[0m\n",
      "\u001b[32m[I 2021-11-23 16:59:30,298]\u001b[0m Trial 11 finished with value: 14.370603255970597 and parameters: {'x': 5.790857852250674}. Best is trial 7 with value: 0.004736531109676537.\u001b[0m\n",
      "\u001b[32m[I 2021-11-23 16:59:30,300]\u001b[0m Trial 12 finished with value: 34.350349149790894 and parameters: {'x': -3.8609170911889628}. Best is trial 7 with value: 0.004736531109676537.\u001b[0m\n",
      "\u001b[32m[I 2021-11-23 16:59:30,302]\u001b[0m Trial 13 finished with value: 4.157261820901733 and parameters: {'x': 4.03893644356604}. Best is trial 7 with value: 0.004736531109676537.\u001b[0m\n",
      "\u001b[32m[I 2021-11-23 16:59:30,304]\u001b[0m Trial 14 finished with value: 36.0868621602474 and parameters: {'x': -4.007234152274023}. Best is trial 7 with value: 0.004736531109676537.\u001b[0m\n",
      "\u001b[32m[I 2021-11-23 16:59:30,306]\u001b[0m Trial 15 finished with value: 63.2378147167272 and parameters: {'x': 9.952220741197216}. Best is trial 7 with value: 0.004736531109676537.\u001b[0m\n",
      "\u001b[32m[I 2021-11-23 16:59:30,308]\u001b[0m Trial 16 finished with value: 14.841454906541491 and parameters: {'x': -1.8524608896835657}. Best is trial 7 with value: 0.004736531109676537.\u001b[0m\n",
      "\u001b[32m[I 2021-11-23 16:59:30,311]\u001b[0m Trial 17 finished with value: 117.97131719062006 and parameters: {'x': -8.86146017764739}. Best is trial 7 with value: 0.004736531109676537.\u001b[0m\n",
      "\u001b[32m[I 2021-11-23 16:59:30,313]\u001b[0m Trial 18 finished with value: 0.6557626891589604 and parameters: {'x': 2.809791756662761}. Best is trial 7 with value: 0.004736531109676537.\u001b[0m\n",
      "\u001b[32m[I 2021-11-23 16:59:30,315]\u001b[0m Trial 19 finished with value: 23.39850990240002 and parameters: {'x': 6.837200626643474}. Best is trial 7 with value: 0.004736531109676537.\u001b[0m\n",
      "\u001b[32m[I 2021-11-23 16:59:30,317]\u001b[0m Trial 20 finished with value: 6.078129733594145 and parameters: {'x': 4.4653863254253165}. Best is trial 7 with value: 0.004736531109676537.\u001b[0m\n",
      "\u001b[32m[I 2021-11-23 16:59:30,319]\u001b[0m Trial 21 finished with value: 0.30561486453559933 and parameters: {'x': 1.4471755572194738}. Best is trial 7 with value: 0.004736531109676537.\u001b[0m\n",
      "\u001b[32m[I 2021-11-23 16:59:30,321]\u001b[0m Trial 22 finished with value: 0.33192423809608035 and parameters: {'x': 1.423871335467432}. Best is trial 7 with value: 0.004736531109676537.\u001b[0m\n",
      "\u001b[32m[I 2021-11-23 16:59:30,324]\u001b[0m Trial 23 finished with value: 16.16416379123584 and parameters: {'x': -2.020468105984157}. Best is trial 7 with value: 0.004736531109676537.\u001b[0m\n",
      "\u001b[32m[I 2021-11-23 16:59:30,326]\u001b[0m Trial 24 finished with value: 3.567119473422897 and parameters: {'x': 3.8886819407785147}. Best is trial 7 with value: 0.004736531109676537.\u001b[0m\n",
      "\u001b[32m[I 2021-11-23 16:59:30,328]\u001b[0m Trial 25 finished with value: 16.76300871971969 and parameters: {'x': -2.0942653455436533}. Best is trial 7 with value: 0.004736531109676537.\u001b[0m\n",
      "\u001b[32m[I 2021-11-23 16:59:30,330]\u001b[0m Trial 26 finished with value: 0.8225376084998467 and parameters: {'x': 1.0930614086390156}. Best is trial 7 with value: 0.004736531109676537.\u001b[0m\n",
      "\u001b[32m[I 2021-11-23 16:59:30,333]\u001b[0m Trial 27 finished with value: 28.87649870433219 and parameters: {'x': 7.3736857653134305}. Best is trial 7 with value: 0.004736531109676537.\u001b[0m\n",
      "\u001b[32m[I 2021-11-23 16:59:30,335]\u001b[0m Trial 28 finished with value: 0.10414140995596058 and parameters: {'x': 1.6772905177160724}. Best is trial 7 with value: 0.004736531109676537.\u001b[0m\n",
      "\u001b[32m[I 2021-11-23 16:59:30,337]\u001b[0m Trial 29 finished with value: 10.433532642568652 and parameters: {'x': 5.2300979308015805}. Best is trial 7 with value: 0.004736531109676537.\u001b[0m\n",
      "\u001b[32m[I 2021-11-23 16:59:30,339]\u001b[0m Trial 30 finished with value: 67.44112664698332 and parameters: {'x': -6.212254662818447}. Best is trial 7 with value: 0.004736531109676537.\u001b[0m\n",
      "\u001b[32m[I 2021-11-23 16:59:30,341]\u001b[0m Trial 31 finished with value: 0.5890802967444684 and parameters: {'x': 2.7675156654717012}. Best is trial 7 with value: 0.004736531109676537.\u001b[0m\n",
      "\u001b[32m[I 2021-11-23 16:59:30,344]\u001b[0m Trial 32 finished with value: 0.004444710194085294 and parameters: {'x': 1.93333134024082}. Best is trial 32 with value: 0.004444710194085294.\u001b[0m\n",
      "\u001b[32m[I 2021-11-23 16:59:30,346]\u001b[0m Trial 33 finished with value: 2.249145080015325 and parameters: {'x': 0.5002850004033017}. Best is trial 32 with value: 0.004444710194085294.\u001b[0m\n",
      "\u001b[32m[I 2021-11-23 16:59:30,348]\u001b[0m Trial 34 finished with value: 0.6980051753039657 and parameters: {'x': 2.835467040225984}. Best is trial 32 with value: 0.004444710194085294.\u001b[0m\n",
      "\u001b[32m[I 2021-11-23 16:59:30,351]\u001b[0m Trial 35 finished with value: 10.821002878879673 and parameters: {'x': -1.289529279225171}. Best is trial 32 with value: 0.004444710194085294.\u001b[0m\n",
      "\u001b[32m[I 2021-11-23 16:59:30,353]\u001b[0m Trial 36 finished with value: 0.003972218726417358 and parameters: {'x': 1.9369744597292704}. Best is trial 36 with value: 0.003972218726417358.\u001b[0m\n",
      "\u001b[32m[I 2021-11-23 16:59:30,355]\u001b[0m Trial 37 finished with value: 25.647576718643986 and parameters: {'x': -3.064343661190854}. Best is trial 36 with value: 0.003972218726417358.\u001b[0m\n",
      "\u001b[32m[I 2021-11-23 16:59:30,357]\u001b[0m Trial 38 finished with value: 5.7349756184448495 and parameters: {'x': -0.3947809124103292}. Best is trial 36 with value: 0.003972218726417358.\u001b[0m\n",
      "\u001b[32m[I 2021-11-23 16:59:30,360]\u001b[0m Trial 39 finished with value: 1.8371708850129174 and parameters: {'x': 3.355422769844493}. Best is trial 36 with value: 0.003972218726417358.\u001b[0m\n",
      "\u001b[32m[I 2021-11-23 16:59:30,362]\u001b[0m Trial 40 finished with value: 8.472400911157239 and parameters: {'x': 4.910738894362948}. Best is trial 36 with value: 0.003972218726417358.\u001b[0m\n",
      "\u001b[32m[I 2021-11-23 16:59:30,364]\u001b[0m Trial 41 finished with value: 0.054365831102894044 and parameters: {'x': 1.766835184680677}. Best is trial 36 with value: 0.003972218726417358.\u001b[0m\n",
      "\u001b[32m[I 2021-11-23 16:59:30,367]\u001b[0m Trial 42 finished with value: 2.1359367364770177 and parameters: {'x': 0.5385155709084624}. Best is trial 36 with value: 0.003972218726417358.\u001b[0m\n",
      "\u001b[32m[I 2021-11-23 16:59:30,370]\u001b[0m Trial 43 finished with value: 0.012973698268409061 and parameters: {'x': 2.1139021433881253}. Best is trial 36 with value: 0.003972218726417358.\u001b[0m\n",
      "\u001b[32m[I 2021-11-23 16:59:30,372]\u001b[0m Trial 44 finished with value: 0.10192646674013645 and parameters: {'x': 2.319259246914066}. Best is trial 36 with value: 0.003972218726417358.\u001b[0m\n",
      "\u001b[32m[I 2021-11-23 16:59:30,375]\u001b[0m Trial 45 finished with value: 8.490891431135923 and parameters: {'x': -0.9139134220384659}. Best is trial 36 with value: 0.003972218726417358.\u001b[0m\n",
      "\u001b[32m[I 2021-11-23 16:59:30,377]\u001b[0m Trial 46 finished with value: 2.4606052137525896 and parameters: {'x': 0.4313683626317524}. Best is trial 36 with value: 0.003972218726417358.\u001b[0m\n",
      "\u001b[32m[I 2021-11-23 16:59:30,380]\u001b[0m Trial 47 finished with value: 2.56273136797064 and parameters: {'x': 3.600853324939746}. Best is trial 36 with value: 0.003972218726417358.\u001b[0m\n",
      "\u001b[32m[I 2021-11-23 16:59:30,382]\u001b[0m Trial 48 finished with value: 14.6554985741836 and parameters: {'x': 5.828250066829961}. Best is trial 36 with value: 0.003972218726417358.\u001b[0m\n",
      "\u001b[32m[I 2021-11-23 16:59:30,385]\u001b[0m Trial 49 finished with value: 31.727280913435226 and parameters: {'x': 7.632697481086236}. Best is trial 36 with value: 0.003972218726417358.\u001b[0m\n",
      "\u001b[32m[I 2021-11-23 16:59:30,387]\u001b[0m Trial 50 finished with value: 0.08041324078191792 and parameters: {'x': 2.283572284932639}. Best is trial 36 with value: 0.003972218726417358.\u001b[0m\n",
      "\u001b[32m[I 2021-11-23 16:59:30,390]\u001b[0m Trial 51 finished with value: 7.171974191077489e-05 and parameters: {'x': 2.008468750906171}. Best is trial 51 with value: 7.171974191077489e-05.\u001b[0m\n",
      "\u001b[32m[I 2021-11-23 16:59:30,392]\u001b[0m Trial 52 finished with value: 3.5293388363859113 and parameters: {'x': 0.1213465363761439}. Best is trial 51 with value: 7.171974191077489e-05.\u001b[0m\n",
      "\u001b[32m[I 2021-11-23 16:59:30,394]\u001b[0m Trial 53 finished with value: 1.0883365992246947 and parameters: {'x': 0.9567662777571392}. Best is trial 51 with value: 7.171974191077489e-05.\u001b[0m\n",
      "\u001b[32m[I 2021-11-23 16:59:30,397]\u001b[0m Trial 54 finished with value: 1.8532133205559844 and parameters: {'x': 3.3613277785147795}. Best is trial 51 with value: 7.171974191077489e-05.\u001b[0m\n",
      "\u001b[32m[I 2021-11-23 16:59:30,399]\u001b[0m Trial 55 finished with value: 0.025757487261790737 and parameters: {'x': 2.1604913931081375}. Best is trial 51 with value: 7.171974191077489e-05.\u001b[0m\n",
      "\u001b[32m[I 2021-11-23 16:59:30,402]\u001b[0m Trial 56 finished with value: 6.839972794135932 and parameters: {'x': 4.615334164908173}. Best is trial 51 with value: 7.171974191077489e-05.\u001b[0m\n",
      "\u001b[32m[I 2021-11-23 16:59:30,404]\u001b[0m Trial 57 finished with value: 4.279059310973667 and parameters: {'x': 4.0685887244625665}. Best is trial 51 with value: 7.171974191077489e-05.\u001b[0m\n",
      "\u001b[32m[I 2021-11-23 16:59:30,407]\u001b[0m Trial 58 finished with value: 6.551745945018891 and parameters: {'x': -0.5596378542713598}. Best is trial 51 with value: 7.171974191077489e-05.\u001b[0m\n",
      "\u001b[32m[I 2021-11-23 16:59:30,410]\u001b[0m Trial 59 finished with value: 0.7555493304503806 and parameters: {'x': 1.1307765934753133}. Best is trial 51 with value: 7.171974191077489e-05.\u001b[0m\n",
      "\u001b[32m[I 2021-11-23 16:59:30,412]\u001b[0m Trial 60 finished with value: 1.3652027115259753 and parameters: {'x': 3.1684188938586946}. Best is trial 51 with value: 7.171974191077489e-05.\u001b[0m\n",
      "\u001b[32m[I 2021-11-23 16:59:30,415]\u001b[0m Trial 61 finished with value: 0.03645708484763758 and parameters: {'x': 2.19093738462553}. Best is trial 51 with value: 7.171974191077489e-05.\u001b[0m\n",
      "\u001b[32m[I 2021-11-23 16:59:30,417]\u001b[0m Trial 62 finished with value: 0.003865267140384103 and parameters: {'x': 2.0621712726296004}. Best is trial 51 with value: 7.171974191077489e-05.\u001b[0m\n",
      "\u001b[32m[I 2021-11-23 16:59:30,420]\u001b[0m Trial 63 finished with value: 0.02049215160324935 and parameters: {'x': 1.8568491997813168}. Best is trial 51 with value: 7.171974191077489e-05.\u001b[0m\n",
      "\u001b[32m[I 2021-11-23 16:59:30,422]\u001b[0m Trial 64 finished with value: 1.2822090478116543 and parameters: {'x': 0.8676533005251199}. Best is trial 51 with value: 7.171974191077489e-05.\u001b[0m\n",
      "\u001b[32m[I 2021-11-23 16:59:30,425]\u001b[0m Trial 65 finished with value: 4.194919631418913 and parameters: {'x': -0.04815029512458202}. Best is trial 51 with value: 7.171974191077489e-05.\u001b[0m\n",
      "\u001b[32m[I 2021-11-23 16:59:30,427]\u001b[0m Trial 66 finished with value: 143.68878597109074 and parameters: {'x': -9.987025734980747}. Best is trial 51 with value: 7.171974191077489e-05.\u001b[0m\n",
      "\u001b[32m[I 2021-11-23 16:59:30,430]\u001b[0m Trial 67 finished with value: 11.309228867790663 and parameters: {'x': -1.3629196939253045}. Best is trial 51 with value: 7.171974191077489e-05.\u001b[0m\n",
      "\u001b[32m[I 2021-11-23 16:59:30,432]\u001b[0m Trial 68 finished with value: 3.431683278247506 and parameters: {'x': 3.852480304415544}. Best is trial 51 with value: 7.171974191077489e-05.\u001b[0m\n",
      "\u001b[32m[I 2021-11-23 16:59:30,435]\u001b[0m Trial 69 finished with value: 0.6205726189400061 and parameters: {'x': 2.7877643168740294}. Best is trial 51 with value: 7.171974191077489e-05.\u001b[0m\n",
      "\u001b[32m[I 2021-11-23 16:59:30,437]\u001b[0m Trial 70 finished with value: 0.33531493143472113 and parameters: {'x': 1.4209361594480958}. Best is trial 51 with value: 7.171974191077489e-05.\u001b[0m\n",
      "\u001b[32m[I 2021-11-23 16:59:30,440]\u001b[0m Trial 71 finished with value: 0.03016803562458952 and parameters: {'x': 1.8263105195338833}. Best is trial 51 with value: 7.171974191077489e-05.\u001b[0m\n",
      "\u001b[32m[I 2021-11-23 16:59:30,445]\u001b[0m Trial 72 finished with value: 0.3984015374784974 and parameters: {'x': 2.6311905714429655}. Best is trial 51 with value: 7.171974191077489e-05.\u001b[0m\n",
      "\u001b[32m[I 2021-11-23 16:59:30,449]\u001b[0m Trial 73 finished with value: 5.351936798056223 and parameters: {'x': 4.313425338768516}. Best is trial 51 with value: 7.171974191077489e-05.\u001b[0m\n",
      "\u001b[32m[I 2021-11-23 16:59:30,453]\u001b[0m Trial 74 finished with value: 0.07739113139974797 and parameters: {'x': 1.7218073843543866}. Best is trial 51 with value: 7.171974191077489e-05.\u001b[0m\n",
      "\u001b[32m[I 2021-11-23 16:59:30,456]\u001b[0m Trial 75 finished with value: 11.423851080935405 and parameters: {'x': 5.379918797979532}. Best is trial 51 with value: 7.171974191077489e-05.\u001b[0m\n",
      "\u001b[32m[I 2021-11-23 16:59:30,458]\u001b[0m Trial 76 finished with value: 0.9268533376536382 and parameters: {'x': 2.9627322253117105}. Best is trial 51 with value: 7.171974191077489e-05.\u001b[0m\n",
      "\u001b[32m[I 2021-11-23 16:59:30,461]\u001b[0m Trial 77 finished with value: 2.1106105061093015 and parameters: {'x': 0.5472059656959967}. Best is trial 51 with value: 7.171974191077489e-05.\u001b[0m\n",
      "\u001b[32m[I 2021-11-23 16:59:30,463]\u001b[0m Trial 78 finished with value: 7.521432876148826e-05 and parameters: {'x': 2.008672619486723}. Best is trial 51 with value: 7.171974191077489e-05.\u001b[0m\n",
      "\u001b[32m[I 2021-11-23 16:59:30,465]\u001b[0m Trial 79 finished with value: 21.47524483288794 and parameters: {'x': -2.634139060590213}. Best is trial 51 with value: 7.171974191077489e-05.\u001b[0m\n",
      "\u001b[32m[I 2021-11-23 16:59:30,468]\u001b[0m Trial 80 finished with value: 0.6505514772304211 and parameters: {'x': 1.1934322860227908}. Best is trial 51 with value: 7.171974191077489e-05.\u001b[0m\n",
      "\u001b[32m[I 2021-11-23 16:59:30,470]\u001b[0m Trial 81 finished with value: 0.0154368642011243 and parameters: {'x': 1.8757548222218492}. Best is trial 51 with value: 7.171974191077489e-05.\u001b[0m\n",
      "\u001b[32m[I 2021-11-23 16:59:30,472]\u001b[0m Trial 82 finished with value: 0.11851456629825857 and parameters: {'x': 2.344259446200476}. Best is trial 51 with value: 7.171974191077489e-05.\u001b[0m\n",
      "\u001b[32m[I 2021-11-23 16:59:30,475]\u001b[0m Trial 83 finished with value: 1.8605722178592983 and parameters: {'x': 3.364027938811848}. Best is trial 51 with value: 7.171974191077489e-05.\u001b[0m\n",
      "\u001b[32m[I 2021-11-23 16:59:30,477]\u001b[0m Trial 84 finished with value: 1.737779762226664 and parameters: {'x': 0.681751251763665}. Best is trial 51 with value: 7.171974191077489e-05.\u001b[0m\n",
      "\u001b[32m[I 2021-11-23 16:59:30,480]\u001b[0m Trial 85 finished with value: 3.3762627276218025 and parameters: {'x': 0.1625390541233802}. Best is trial 51 with value: 7.171974191077489e-05.\u001b[0m\n",
      "\u001b[32m[I 2021-11-23 16:59:30,482]\u001b[0m Trial 86 finished with value: 0.47330441781982696 and parameters: {'x': 1.3120287667207102}. Best is trial 51 with value: 7.171974191077489e-05.\u001b[0m\n",
      "\u001b[32m[I 2021-11-23 16:59:30,485]\u001b[0m Trial 87 finished with value: 3.041420979965515 and parameters: {'x': 3.743967023760918}. Best is trial 51 with value: 7.171974191077489e-05.\u001b[0m\n",
      "\u001b[32m[I 2021-11-23 16:59:30,487]\u001b[0m Trial 88 finished with value: 5.756357313805627 and parameters: {'x': -0.3992409870218596}. Best is trial 51 with value: 7.171974191077489e-05.\u001b[0m\n",
      "\u001b[32m[I 2021-11-23 16:59:30,490]\u001b[0m Trial 89 finished with value: 0.23079135052098845 and parameters: {'x': 2.4804074838311623}. Best is trial 51 with value: 7.171974191077489e-05.\u001b[0m\n",
      "\u001b[32m[I 2021-11-23 16:59:30,492]\u001b[0m Trial 90 finished with value: 0.005247055928561332 and parameters: {'x': 1.9275634351410744}. Best is trial 51 with value: 7.171974191077489e-05.\u001b[0m\n",
      "\u001b[32m[I 2021-11-23 16:59:30,495]\u001b[0m Trial 91 finished with value: 0.08372158261812963 and parameters: {'x': 1.710653179353687}. Best is trial 51 with value: 7.171974191077489e-05.\u001b[0m\n",
      "\u001b[32m[I 2021-11-23 16:59:30,497]\u001b[0m Trial 92 finished with value: 1.257081970898972 and parameters: {'x': 3.12119666914372}. Best is trial 51 with value: 7.171974191077489e-05.\u001b[0m\n",
      "\u001b[32m[I 2021-11-23 16:59:30,499]\u001b[0m Trial 93 finished with value: 0.01349446708593483 and parameters: {'x': 1.8838343119250145}. Best is trial 51 with value: 7.171974191077489e-05.\u001b[0m\n",
      "\u001b[32m[I 2021-11-23 16:59:30,503]\u001b[0m Trial 94 finished with value: 0.3120569835331203 and parameters: {'x': 2.558620607866484}. Best is trial 51 with value: 7.171974191077489e-05.\u001b[0m\n",
      "\u001b[32m[I 2021-11-23 16:59:30,505]\u001b[0m Trial 95 finished with value: 1.1829287670991326 and parameters: {'x': 0.9123747119990577}. Best is trial 51 with value: 7.171974191077489e-05.\u001b[0m\n",
      "\u001b[32m[I 2021-11-23 16:59:30,508]\u001b[0m Trial 96 finished with value: 7.1013046293705235 and parameters: {'x': 4.66482731698895}. Best is trial 51 with value: 7.171974191077489e-05.\u001b[0m\n",
      "\u001b[32m[I 2021-11-23 16:59:30,511]\u001b[0m Trial 97 finished with value: 0.0023157244326074884 and parameters: {'x': 2.0481219745293924}. Best is trial 51 with value: 7.171974191077489e-05.\u001b[0m\n",
      "\u001b[32m[I 2021-11-23 16:59:30,513]\u001b[0m Trial 98 finished with value: 3.0333228738131215 and parameters: {'x': 0.25835627242161796}. Best is trial 51 with value: 7.171974191077489e-05.\u001b[0m\n",
      "\u001b[32m[I 2021-11-23 16:59:30,516]\u001b[0m Trial 99 finished with value: 8.887497672917322 and parameters: {'x': -0.9811906468586205}. Best is trial 51 with value: 7.171974191077489e-05.\u001b[0m\n"
     ]
    }
   ],
   "source": [
    "study = optuna.create_study()\n",
    "study.optimize(objective, n_trials=100)"
   ]
  },
  {
   "cell_type": "code",
   "execution_count": 4,
   "metadata": {},
   "outputs": [
    {
     "name": "stdout",
     "output_type": "stream",
     "text": [
      "Found x: 2.008468750906171, (x-2)^2: 7.171974191077489e-05\n"
     ]
    }
   ],
   "source": [
    "best_params = study.best_params\n",
    "found_x = best_params[\"x\"]\n",
    "print(\"Found x: {}, (x-2)^2: {}\".format(found_x, (found_x-2)**2))"
   ]
  },
  {
   "cell_type": "code",
   "execution_count": 5,
   "metadata": {},
   "outputs": [
    {
     "data": {
      "application/vnd.plotly.v1+json": {
       "config": {
        "plotlyServerURL": "https://plot.ly"
       },
       "data": [
        {
         "mode": "markers",
         "name": "Objective Value",
         "type": "scatter",
         "x": [
          0,
          1,
          2,
          3,
          4,
          5,
          6,
          7,
          8,
          9,
          10,
          11,
          12,
          13,
          14,
          15,
          16,
          17,
          18,
          19,
          20,
          21,
          22,
          23,
          24,
          25,
          26,
          27,
          28,
          29,
          30,
          31,
          32,
          33,
          34,
          35,
          36,
          37,
          38,
          39,
          40,
          41,
          42,
          43,
          44,
          45,
          46,
          47,
          48,
          49,
          50,
          51,
          52,
          53,
          54,
          55,
          56,
          57,
          58,
          59,
          60,
          61,
          62,
          63,
          64,
          65,
          66,
          67,
          68,
          69,
          70,
          71,
          72,
          73,
          74,
          75,
          76,
          77,
          78,
          79,
          80,
          81,
          82,
          83,
          84,
          85,
          86,
          87,
          88,
          89,
          90,
          91,
          92,
          93,
          94,
          95,
          96,
          97,
          98,
          99
         ],
         "y": [
          46.03991134339456,
          49.74503117595592,
          0.1448772026255324,
          0.005353081593203496,
          0.20162145936687115,
          4.225429785530977,
          5.584366087657447,
          0.004736531109676537,
          6.227776432179537,
          86.18859492891022,
          16.450829318439045,
          14.370603255970597,
          34.350349149790894,
          4.157261820901733,
          36.0868621602474,
          63.2378147167272,
          14.841454906541491,
          117.97131719062006,
          0.6557626891589604,
          23.39850990240002,
          6.078129733594145,
          0.30561486453559933,
          0.33192423809608035,
          16.16416379123584,
          3.567119473422897,
          16.76300871971969,
          0.8225376084998467,
          28.87649870433219,
          0.10414140995596058,
          10.433532642568652,
          67.44112664698332,
          0.5890802967444684,
          0.004444710194085294,
          2.249145080015325,
          0.6980051753039657,
          10.821002878879673,
          0.003972218726417358,
          25.647576718643986,
          5.7349756184448495,
          1.8371708850129174,
          8.472400911157239,
          0.054365831102894044,
          2.1359367364770177,
          0.012973698268409061,
          0.10192646674013645,
          8.490891431135923,
          2.4606052137525896,
          2.56273136797064,
          14.6554985741836,
          31.727280913435226,
          0.08041324078191792,
          0.00007171974191077489,
          3.5293388363859113,
          1.0883365992246947,
          1.8532133205559844,
          0.025757487261790737,
          6.839972794135932,
          4.279059310973667,
          6.551745945018891,
          0.7555493304503806,
          1.3652027115259753,
          0.03645708484763758,
          0.003865267140384103,
          0.02049215160324935,
          1.2822090478116543,
          4.194919631418913,
          143.68878597109074,
          11.309228867790663,
          3.431683278247506,
          0.6205726189400061,
          0.33531493143472113,
          0.03016803562458952,
          0.3984015374784974,
          5.351936798056223,
          0.07739113139974797,
          11.423851080935405,
          0.9268533376536382,
          2.1106105061093015,
          0.00007521432876148826,
          21.47524483288794,
          0.6505514772304211,
          0.0154368642011243,
          0.11851456629825857,
          1.8605722178592983,
          1.737779762226664,
          3.3762627276218025,
          0.47330441781982696,
          3.041420979965515,
          5.756357313805627,
          0.23079135052098845,
          0.005247055928561332,
          0.08372158261812963,
          1.257081970898972,
          0.01349446708593483,
          0.3120569835331203,
          1.1829287670991326,
          7.1013046293705235,
          0.0023157244326074884,
          3.0333228738131215,
          8.887497672917322
         ]
        },
        {
         "name": "Best Value",
         "type": "scatter",
         "x": [
          0,
          1,
          2,
          3,
          4,
          5,
          6,
          7,
          8,
          9,
          10,
          11,
          12,
          13,
          14,
          15,
          16,
          17,
          18,
          19,
          20,
          21,
          22,
          23,
          24,
          25,
          26,
          27,
          28,
          29,
          30,
          31,
          32,
          33,
          34,
          35,
          36,
          37,
          38,
          39,
          40,
          41,
          42,
          43,
          44,
          45,
          46,
          47,
          48,
          49,
          50,
          51,
          52,
          53,
          54,
          55,
          56,
          57,
          58,
          59,
          60,
          61,
          62,
          63,
          64,
          65,
          66,
          67,
          68,
          69,
          70,
          71,
          72,
          73,
          74,
          75,
          76,
          77,
          78,
          79,
          80,
          81,
          82,
          83,
          84,
          85,
          86,
          87,
          88,
          89,
          90,
          91,
          92,
          93,
          94,
          95,
          96,
          97,
          98,
          99
         ],
         "y": [
          46.03991134339456,
          46.03991134339456,
          0.1448772026255324,
          0.005353081593203496,
          0.005353081593203496,
          0.005353081593203496,
          0.005353081593203496,
          0.004736531109676537,
          0.004736531109676537,
          0.004736531109676537,
          0.004736531109676537,
          0.004736531109676537,
          0.004736531109676537,
          0.004736531109676537,
          0.004736531109676537,
          0.004736531109676537,
          0.004736531109676537,
          0.004736531109676537,
          0.004736531109676537,
          0.004736531109676537,
          0.004736531109676537,
          0.004736531109676537,
          0.004736531109676537,
          0.004736531109676537,
          0.004736531109676537,
          0.004736531109676537,
          0.004736531109676537,
          0.004736531109676537,
          0.004736531109676537,
          0.004736531109676537,
          0.004736531109676537,
          0.004736531109676537,
          0.004444710194085294,
          0.004444710194085294,
          0.004444710194085294,
          0.004444710194085294,
          0.003972218726417358,
          0.003972218726417358,
          0.003972218726417358,
          0.003972218726417358,
          0.003972218726417358,
          0.003972218726417358,
          0.003972218726417358,
          0.003972218726417358,
          0.003972218726417358,
          0.003972218726417358,
          0.003972218726417358,
          0.003972218726417358,
          0.003972218726417358,
          0.003972218726417358,
          0.003972218726417358,
          0.00007171974191077489,
          0.00007171974191077489,
          0.00007171974191077489,
          0.00007171974191077489,
          0.00007171974191077489,
          0.00007171974191077489,
          0.00007171974191077489,
          0.00007171974191077489,
          0.00007171974191077489,
          0.00007171974191077489,
          0.00007171974191077489,
          0.00007171974191077489,
          0.00007171974191077489,
          0.00007171974191077489,
          0.00007171974191077489,
          0.00007171974191077489,
          0.00007171974191077489,
          0.00007171974191077489,
          0.00007171974191077489,
          0.00007171974191077489,
          0.00007171974191077489,
          0.00007171974191077489,
          0.00007171974191077489,
          0.00007171974191077489,
          0.00007171974191077489,
          0.00007171974191077489,
          0.00007171974191077489,
          0.00007171974191077489,
          0.00007171974191077489,
          0.00007171974191077489,
          0.00007171974191077489,
          0.00007171974191077489,
          0.00007171974191077489,
          0.00007171974191077489,
          0.00007171974191077489,
          0.00007171974191077489,
          0.00007171974191077489,
          0.00007171974191077489,
          0.00007171974191077489,
          0.00007171974191077489,
          0.00007171974191077489,
          0.00007171974191077489,
          0.00007171974191077489,
          0.00007171974191077489,
          0.00007171974191077489,
          0.00007171974191077489,
          0.00007171974191077489,
          0.00007171974191077489,
          0.00007171974191077489
         ]
        }
       ],
       "layout": {
        "template": {
         "data": {
          "bar": [
           {
            "error_x": {
             "color": "#2a3f5f"
            },
            "error_y": {
             "color": "#2a3f5f"
            },
            "marker": {
             "line": {
              "color": "#E5ECF6",
              "width": 0.5
             },
             "pattern": {
              "fillmode": "overlay",
              "size": 10,
              "solidity": 0.2
             }
            },
            "type": "bar"
           }
          ],
          "barpolar": [
           {
            "marker": {
             "line": {
              "color": "#E5ECF6",
              "width": 0.5
             },
             "pattern": {
              "fillmode": "overlay",
              "size": 10,
              "solidity": 0.2
             }
            },
            "type": "barpolar"
           }
          ],
          "carpet": [
           {
            "aaxis": {
             "endlinecolor": "#2a3f5f",
             "gridcolor": "white",
             "linecolor": "white",
             "minorgridcolor": "white",
             "startlinecolor": "#2a3f5f"
            },
            "baxis": {
             "endlinecolor": "#2a3f5f",
             "gridcolor": "white",
             "linecolor": "white",
             "minorgridcolor": "white",
             "startlinecolor": "#2a3f5f"
            },
            "type": "carpet"
           }
          ],
          "choropleth": [
           {
            "colorbar": {
             "outlinewidth": 0,
             "ticks": ""
            },
            "type": "choropleth"
           }
          ],
          "contour": [
           {
            "colorbar": {
             "outlinewidth": 0,
             "ticks": ""
            },
            "colorscale": [
             [
              0,
              "#0d0887"
             ],
             [
              0.1111111111111111,
              "#46039f"
             ],
             [
              0.2222222222222222,
              "#7201a8"
             ],
             [
              0.3333333333333333,
              "#9c179e"
             ],
             [
              0.4444444444444444,
              "#bd3786"
             ],
             [
              0.5555555555555556,
              "#d8576b"
             ],
             [
              0.6666666666666666,
              "#ed7953"
             ],
             [
              0.7777777777777778,
              "#fb9f3a"
             ],
             [
              0.8888888888888888,
              "#fdca26"
             ],
             [
              1,
              "#f0f921"
             ]
            ],
            "type": "contour"
           }
          ],
          "contourcarpet": [
           {
            "colorbar": {
             "outlinewidth": 0,
             "ticks": ""
            },
            "type": "contourcarpet"
           }
          ],
          "heatmap": [
           {
            "colorbar": {
             "outlinewidth": 0,
             "ticks": ""
            },
            "colorscale": [
             [
              0,
              "#0d0887"
             ],
             [
              0.1111111111111111,
              "#46039f"
             ],
             [
              0.2222222222222222,
              "#7201a8"
             ],
             [
              0.3333333333333333,
              "#9c179e"
             ],
             [
              0.4444444444444444,
              "#bd3786"
             ],
             [
              0.5555555555555556,
              "#d8576b"
             ],
             [
              0.6666666666666666,
              "#ed7953"
             ],
             [
              0.7777777777777778,
              "#fb9f3a"
             ],
             [
              0.8888888888888888,
              "#fdca26"
             ],
             [
              1,
              "#f0f921"
             ]
            ],
            "type": "heatmap"
           }
          ],
          "heatmapgl": [
           {
            "colorbar": {
             "outlinewidth": 0,
             "ticks": ""
            },
            "colorscale": [
             [
              0,
              "#0d0887"
             ],
             [
              0.1111111111111111,
              "#46039f"
             ],
             [
              0.2222222222222222,
              "#7201a8"
             ],
             [
              0.3333333333333333,
              "#9c179e"
             ],
             [
              0.4444444444444444,
              "#bd3786"
             ],
             [
              0.5555555555555556,
              "#d8576b"
             ],
             [
              0.6666666666666666,
              "#ed7953"
             ],
             [
              0.7777777777777778,
              "#fb9f3a"
             ],
             [
              0.8888888888888888,
              "#fdca26"
             ],
             [
              1,
              "#f0f921"
             ]
            ],
            "type": "heatmapgl"
           }
          ],
          "histogram": [
           {
            "marker": {
             "pattern": {
              "fillmode": "overlay",
              "size": 10,
              "solidity": 0.2
             }
            },
            "type": "histogram"
           }
          ],
          "histogram2d": [
           {
            "colorbar": {
             "outlinewidth": 0,
             "ticks": ""
            },
            "colorscale": [
             [
              0,
              "#0d0887"
             ],
             [
              0.1111111111111111,
              "#46039f"
             ],
             [
              0.2222222222222222,
              "#7201a8"
             ],
             [
              0.3333333333333333,
              "#9c179e"
             ],
             [
              0.4444444444444444,
              "#bd3786"
             ],
             [
              0.5555555555555556,
              "#d8576b"
             ],
             [
              0.6666666666666666,
              "#ed7953"
             ],
             [
              0.7777777777777778,
              "#fb9f3a"
             ],
             [
              0.8888888888888888,
              "#fdca26"
             ],
             [
              1,
              "#f0f921"
             ]
            ],
            "type": "histogram2d"
           }
          ],
          "histogram2dcontour": [
           {
            "colorbar": {
             "outlinewidth": 0,
             "ticks": ""
            },
            "colorscale": [
             [
              0,
              "#0d0887"
             ],
             [
              0.1111111111111111,
              "#46039f"
             ],
             [
              0.2222222222222222,
              "#7201a8"
             ],
             [
              0.3333333333333333,
              "#9c179e"
             ],
             [
              0.4444444444444444,
              "#bd3786"
             ],
             [
              0.5555555555555556,
              "#d8576b"
             ],
             [
              0.6666666666666666,
              "#ed7953"
             ],
             [
              0.7777777777777778,
              "#fb9f3a"
             ],
             [
              0.8888888888888888,
              "#fdca26"
             ],
             [
              1,
              "#f0f921"
             ]
            ],
            "type": "histogram2dcontour"
           }
          ],
          "mesh3d": [
           {
            "colorbar": {
             "outlinewidth": 0,
             "ticks": ""
            },
            "type": "mesh3d"
           }
          ],
          "parcoords": [
           {
            "line": {
             "colorbar": {
              "outlinewidth": 0,
              "ticks": ""
             }
            },
            "type": "parcoords"
           }
          ],
          "pie": [
           {
            "automargin": true,
            "type": "pie"
           }
          ],
          "scatter": [
           {
            "marker": {
             "colorbar": {
              "outlinewidth": 0,
              "ticks": ""
             }
            },
            "type": "scatter"
           }
          ],
          "scatter3d": [
           {
            "line": {
             "colorbar": {
              "outlinewidth": 0,
              "ticks": ""
             }
            },
            "marker": {
             "colorbar": {
              "outlinewidth": 0,
              "ticks": ""
             }
            },
            "type": "scatter3d"
           }
          ],
          "scattercarpet": [
           {
            "marker": {
             "colorbar": {
              "outlinewidth": 0,
              "ticks": ""
             }
            },
            "type": "scattercarpet"
           }
          ],
          "scattergeo": [
           {
            "marker": {
             "colorbar": {
              "outlinewidth": 0,
              "ticks": ""
             }
            },
            "type": "scattergeo"
           }
          ],
          "scattergl": [
           {
            "marker": {
             "colorbar": {
              "outlinewidth": 0,
              "ticks": ""
             }
            },
            "type": "scattergl"
           }
          ],
          "scattermapbox": [
           {
            "marker": {
             "colorbar": {
              "outlinewidth": 0,
              "ticks": ""
             }
            },
            "type": "scattermapbox"
           }
          ],
          "scatterpolar": [
           {
            "marker": {
             "colorbar": {
              "outlinewidth": 0,
              "ticks": ""
             }
            },
            "type": "scatterpolar"
           }
          ],
          "scatterpolargl": [
           {
            "marker": {
             "colorbar": {
              "outlinewidth": 0,
              "ticks": ""
             }
            },
            "type": "scatterpolargl"
           }
          ],
          "scatterternary": [
           {
            "marker": {
             "colorbar": {
              "outlinewidth": 0,
              "ticks": ""
             }
            },
            "type": "scatterternary"
           }
          ],
          "surface": [
           {
            "colorbar": {
             "outlinewidth": 0,
             "ticks": ""
            },
            "colorscale": [
             [
              0,
              "#0d0887"
             ],
             [
              0.1111111111111111,
              "#46039f"
             ],
             [
              0.2222222222222222,
              "#7201a8"
             ],
             [
              0.3333333333333333,
              "#9c179e"
             ],
             [
              0.4444444444444444,
              "#bd3786"
             ],
             [
              0.5555555555555556,
              "#d8576b"
             ],
             [
              0.6666666666666666,
              "#ed7953"
             ],
             [
              0.7777777777777778,
              "#fb9f3a"
             ],
             [
              0.8888888888888888,
              "#fdca26"
             ],
             [
              1,
              "#f0f921"
             ]
            ],
            "type": "surface"
           }
          ],
          "table": [
           {
            "cells": {
             "fill": {
              "color": "#EBF0F8"
             },
             "line": {
              "color": "white"
             }
            },
            "header": {
             "fill": {
              "color": "#C8D4E3"
             },
             "line": {
              "color": "white"
             }
            },
            "type": "table"
           }
          ]
         },
         "layout": {
          "annotationdefaults": {
           "arrowcolor": "#2a3f5f",
           "arrowhead": 0,
           "arrowwidth": 1
          },
          "autotypenumbers": "strict",
          "coloraxis": {
           "colorbar": {
            "outlinewidth": 0,
            "ticks": ""
           }
          },
          "colorscale": {
           "diverging": [
            [
             0,
             "#8e0152"
            ],
            [
             0.1,
             "#c51b7d"
            ],
            [
             0.2,
             "#de77ae"
            ],
            [
             0.3,
             "#f1b6da"
            ],
            [
             0.4,
             "#fde0ef"
            ],
            [
             0.5,
             "#f7f7f7"
            ],
            [
             0.6,
             "#e6f5d0"
            ],
            [
             0.7,
             "#b8e186"
            ],
            [
             0.8,
             "#7fbc41"
            ],
            [
             0.9,
             "#4d9221"
            ],
            [
             1,
             "#276419"
            ]
           ],
           "sequential": [
            [
             0,
             "#0d0887"
            ],
            [
             0.1111111111111111,
             "#46039f"
            ],
            [
             0.2222222222222222,
             "#7201a8"
            ],
            [
             0.3333333333333333,
             "#9c179e"
            ],
            [
             0.4444444444444444,
             "#bd3786"
            ],
            [
             0.5555555555555556,
             "#d8576b"
            ],
            [
             0.6666666666666666,
             "#ed7953"
            ],
            [
             0.7777777777777778,
             "#fb9f3a"
            ],
            [
             0.8888888888888888,
             "#fdca26"
            ],
            [
             1,
             "#f0f921"
            ]
           ],
           "sequentialminus": [
            [
             0,
             "#0d0887"
            ],
            [
             0.1111111111111111,
             "#46039f"
            ],
            [
             0.2222222222222222,
             "#7201a8"
            ],
            [
             0.3333333333333333,
             "#9c179e"
            ],
            [
             0.4444444444444444,
             "#bd3786"
            ],
            [
             0.5555555555555556,
             "#d8576b"
            ],
            [
             0.6666666666666666,
             "#ed7953"
            ],
            [
             0.7777777777777778,
             "#fb9f3a"
            ],
            [
             0.8888888888888888,
             "#fdca26"
            ],
            [
             1,
             "#f0f921"
            ]
           ]
          },
          "colorway": [
           "#636efa",
           "#EF553B",
           "#00cc96",
           "#ab63fa",
           "#FFA15A",
           "#19d3f3",
           "#FF6692",
           "#B6E880",
           "#FF97FF",
           "#FECB52"
          ],
          "font": {
           "color": "#2a3f5f"
          },
          "geo": {
           "bgcolor": "white",
           "lakecolor": "white",
           "landcolor": "#E5ECF6",
           "showlakes": true,
           "showland": true,
           "subunitcolor": "white"
          },
          "hoverlabel": {
           "align": "left"
          },
          "hovermode": "closest",
          "mapbox": {
           "style": "light"
          },
          "paper_bgcolor": "white",
          "plot_bgcolor": "#E5ECF6",
          "polar": {
           "angularaxis": {
            "gridcolor": "white",
            "linecolor": "white",
            "ticks": ""
           },
           "bgcolor": "#E5ECF6",
           "radialaxis": {
            "gridcolor": "white",
            "linecolor": "white",
            "ticks": ""
           }
          },
          "scene": {
           "xaxis": {
            "backgroundcolor": "#E5ECF6",
            "gridcolor": "white",
            "gridwidth": 2,
            "linecolor": "white",
            "showbackground": true,
            "ticks": "",
            "zerolinecolor": "white"
           },
           "yaxis": {
            "backgroundcolor": "#E5ECF6",
            "gridcolor": "white",
            "gridwidth": 2,
            "linecolor": "white",
            "showbackground": true,
            "ticks": "",
            "zerolinecolor": "white"
           },
           "zaxis": {
            "backgroundcolor": "#E5ECF6",
            "gridcolor": "white",
            "gridwidth": 2,
            "linecolor": "white",
            "showbackground": true,
            "ticks": "",
            "zerolinecolor": "white"
           }
          },
          "shapedefaults": {
           "line": {
            "color": "#2a3f5f"
           }
          },
          "ternary": {
           "aaxis": {
            "gridcolor": "white",
            "linecolor": "white",
            "ticks": ""
           },
           "baxis": {
            "gridcolor": "white",
            "linecolor": "white",
            "ticks": ""
           },
           "bgcolor": "#E5ECF6",
           "caxis": {
            "gridcolor": "white",
            "linecolor": "white",
            "ticks": ""
           }
          },
          "title": {
           "x": 0.05
          },
          "xaxis": {
           "automargin": true,
           "gridcolor": "white",
           "linecolor": "white",
           "ticks": "",
           "title": {
            "standoff": 15
           },
           "zerolinecolor": "white",
           "zerolinewidth": 2
          },
          "yaxis": {
           "automargin": true,
           "gridcolor": "white",
           "linecolor": "white",
           "ticks": "",
           "title": {
            "standoff": 15
           },
           "zerolinecolor": "white",
           "zerolinewidth": 2
          }
         }
        },
        "title": {
         "text": "Optimization History Plot"
        },
        "xaxis": {
         "title": {
          "text": "#Trials"
         }
        },
        "yaxis": {
         "title": {
          "text": "Objective Value"
         }
        }
       }
      }
     },
     "metadata": {},
     "output_type": "display_data"
    }
   ],
   "source": [
    "fig = optuna.visualization.plot_optimization_history(study)\n",
    "fig.show()"
   ]
  },
  {
   "cell_type": "code",
   "execution_count": 6,
   "metadata": {},
   "outputs": [
    {
     "name": "stderr",
     "output_type": "stream",
     "text": [
      "\u001b[33m[W 2021-11-23 16:59:53,317]\u001b[0m You need to set up the pruning feature to utilize `plot_intermediate_values()`\u001b[0m\n"
     ]
    },
    {
     "data": {
      "application/vnd.plotly.v1+json": {
       "config": {
        "plotlyServerURL": "https://plot.ly"
       },
       "data": [],
       "layout": {
        "showlegend": false,
        "template": {
         "data": {
          "bar": [
           {
            "error_x": {
             "color": "#2a3f5f"
            },
            "error_y": {
             "color": "#2a3f5f"
            },
            "marker": {
             "line": {
              "color": "#E5ECF6",
              "width": 0.5
             },
             "pattern": {
              "fillmode": "overlay",
              "size": 10,
              "solidity": 0.2
             }
            },
            "type": "bar"
           }
          ],
          "barpolar": [
           {
            "marker": {
             "line": {
              "color": "#E5ECF6",
              "width": 0.5
             },
             "pattern": {
              "fillmode": "overlay",
              "size": 10,
              "solidity": 0.2
             }
            },
            "type": "barpolar"
           }
          ],
          "carpet": [
           {
            "aaxis": {
             "endlinecolor": "#2a3f5f",
             "gridcolor": "white",
             "linecolor": "white",
             "minorgridcolor": "white",
             "startlinecolor": "#2a3f5f"
            },
            "baxis": {
             "endlinecolor": "#2a3f5f",
             "gridcolor": "white",
             "linecolor": "white",
             "minorgridcolor": "white",
             "startlinecolor": "#2a3f5f"
            },
            "type": "carpet"
           }
          ],
          "choropleth": [
           {
            "colorbar": {
             "outlinewidth": 0,
             "ticks": ""
            },
            "type": "choropleth"
           }
          ],
          "contour": [
           {
            "colorbar": {
             "outlinewidth": 0,
             "ticks": ""
            },
            "colorscale": [
             [
              0,
              "#0d0887"
             ],
             [
              0.1111111111111111,
              "#46039f"
             ],
             [
              0.2222222222222222,
              "#7201a8"
             ],
             [
              0.3333333333333333,
              "#9c179e"
             ],
             [
              0.4444444444444444,
              "#bd3786"
             ],
             [
              0.5555555555555556,
              "#d8576b"
             ],
             [
              0.6666666666666666,
              "#ed7953"
             ],
             [
              0.7777777777777778,
              "#fb9f3a"
             ],
             [
              0.8888888888888888,
              "#fdca26"
             ],
             [
              1,
              "#f0f921"
             ]
            ],
            "type": "contour"
           }
          ],
          "contourcarpet": [
           {
            "colorbar": {
             "outlinewidth": 0,
             "ticks": ""
            },
            "type": "contourcarpet"
           }
          ],
          "heatmap": [
           {
            "colorbar": {
             "outlinewidth": 0,
             "ticks": ""
            },
            "colorscale": [
             [
              0,
              "#0d0887"
             ],
             [
              0.1111111111111111,
              "#46039f"
             ],
             [
              0.2222222222222222,
              "#7201a8"
             ],
             [
              0.3333333333333333,
              "#9c179e"
             ],
             [
              0.4444444444444444,
              "#bd3786"
             ],
             [
              0.5555555555555556,
              "#d8576b"
             ],
             [
              0.6666666666666666,
              "#ed7953"
             ],
             [
              0.7777777777777778,
              "#fb9f3a"
             ],
             [
              0.8888888888888888,
              "#fdca26"
             ],
             [
              1,
              "#f0f921"
             ]
            ],
            "type": "heatmap"
           }
          ],
          "heatmapgl": [
           {
            "colorbar": {
             "outlinewidth": 0,
             "ticks": ""
            },
            "colorscale": [
             [
              0,
              "#0d0887"
             ],
             [
              0.1111111111111111,
              "#46039f"
             ],
             [
              0.2222222222222222,
              "#7201a8"
             ],
             [
              0.3333333333333333,
              "#9c179e"
             ],
             [
              0.4444444444444444,
              "#bd3786"
             ],
             [
              0.5555555555555556,
              "#d8576b"
             ],
             [
              0.6666666666666666,
              "#ed7953"
             ],
             [
              0.7777777777777778,
              "#fb9f3a"
             ],
             [
              0.8888888888888888,
              "#fdca26"
             ],
             [
              1,
              "#f0f921"
             ]
            ],
            "type": "heatmapgl"
           }
          ],
          "histogram": [
           {
            "marker": {
             "pattern": {
              "fillmode": "overlay",
              "size": 10,
              "solidity": 0.2
             }
            },
            "type": "histogram"
           }
          ],
          "histogram2d": [
           {
            "colorbar": {
             "outlinewidth": 0,
             "ticks": ""
            },
            "colorscale": [
             [
              0,
              "#0d0887"
             ],
             [
              0.1111111111111111,
              "#46039f"
             ],
             [
              0.2222222222222222,
              "#7201a8"
             ],
             [
              0.3333333333333333,
              "#9c179e"
             ],
             [
              0.4444444444444444,
              "#bd3786"
             ],
             [
              0.5555555555555556,
              "#d8576b"
             ],
             [
              0.6666666666666666,
              "#ed7953"
             ],
             [
              0.7777777777777778,
              "#fb9f3a"
             ],
             [
              0.8888888888888888,
              "#fdca26"
             ],
             [
              1,
              "#f0f921"
             ]
            ],
            "type": "histogram2d"
           }
          ],
          "histogram2dcontour": [
           {
            "colorbar": {
             "outlinewidth": 0,
             "ticks": ""
            },
            "colorscale": [
             [
              0,
              "#0d0887"
             ],
             [
              0.1111111111111111,
              "#46039f"
             ],
             [
              0.2222222222222222,
              "#7201a8"
             ],
             [
              0.3333333333333333,
              "#9c179e"
             ],
             [
              0.4444444444444444,
              "#bd3786"
             ],
             [
              0.5555555555555556,
              "#d8576b"
             ],
             [
              0.6666666666666666,
              "#ed7953"
             ],
             [
              0.7777777777777778,
              "#fb9f3a"
             ],
             [
              0.8888888888888888,
              "#fdca26"
             ],
             [
              1,
              "#f0f921"
             ]
            ],
            "type": "histogram2dcontour"
           }
          ],
          "mesh3d": [
           {
            "colorbar": {
             "outlinewidth": 0,
             "ticks": ""
            },
            "type": "mesh3d"
           }
          ],
          "parcoords": [
           {
            "line": {
             "colorbar": {
              "outlinewidth": 0,
              "ticks": ""
             }
            },
            "type": "parcoords"
           }
          ],
          "pie": [
           {
            "automargin": true,
            "type": "pie"
           }
          ],
          "scatter": [
           {
            "marker": {
             "colorbar": {
              "outlinewidth": 0,
              "ticks": ""
             }
            },
            "type": "scatter"
           }
          ],
          "scatter3d": [
           {
            "line": {
             "colorbar": {
              "outlinewidth": 0,
              "ticks": ""
             }
            },
            "marker": {
             "colorbar": {
              "outlinewidth": 0,
              "ticks": ""
             }
            },
            "type": "scatter3d"
           }
          ],
          "scattercarpet": [
           {
            "marker": {
             "colorbar": {
              "outlinewidth": 0,
              "ticks": ""
             }
            },
            "type": "scattercarpet"
           }
          ],
          "scattergeo": [
           {
            "marker": {
             "colorbar": {
              "outlinewidth": 0,
              "ticks": ""
             }
            },
            "type": "scattergeo"
           }
          ],
          "scattergl": [
           {
            "marker": {
             "colorbar": {
              "outlinewidth": 0,
              "ticks": ""
             }
            },
            "type": "scattergl"
           }
          ],
          "scattermapbox": [
           {
            "marker": {
             "colorbar": {
              "outlinewidth": 0,
              "ticks": ""
             }
            },
            "type": "scattermapbox"
           }
          ],
          "scatterpolar": [
           {
            "marker": {
             "colorbar": {
              "outlinewidth": 0,
              "ticks": ""
             }
            },
            "type": "scatterpolar"
           }
          ],
          "scatterpolargl": [
           {
            "marker": {
             "colorbar": {
              "outlinewidth": 0,
              "ticks": ""
             }
            },
            "type": "scatterpolargl"
           }
          ],
          "scatterternary": [
           {
            "marker": {
             "colorbar": {
              "outlinewidth": 0,
              "ticks": ""
             }
            },
            "type": "scatterternary"
           }
          ],
          "surface": [
           {
            "colorbar": {
             "outlinewidth": 0,
             "ticks": ""
            },
            "colorscale": [
             [
              0,
              "#0d0887"
             ],
             [
              0.1111111111111111,
              "#46039f"
             ],
             [
              0.2222222222222222,
              "#7201a8"
             ],
             [
              0.3333333333333333,
              "#9c179e"
             ],
             [
              0.4444444444444444,
              "#bd3786"
             ],
             [
              0.5555555555555556,
              "#d8576b"
             ],
             [
              0.6666666666666666,
              "#ed7953"
             ],
             [
              0.7777777777777778,
              "#fb9f3a"
             ],
             [
              0.8888888888888888,
              "#fdca26"
             ],
             [
              1,
              "#f0f921"
             ]
            ],
            "type": "surface"
           }
          ],
          "table": [
           {
            "cells": {
             "fill": {
              "color": "#EBF0F8"
             },
             "line": {
              "color": "white"
             }
            },
            "header": {
             "fill": {
              "color": "#C8D4E3"
             },
             "line": {
              "color": "white"
             }
            },
            "type": "table"
           }
          ]
         },
         "layout": {
          "annotationdefaults": {
           "arrowcolor": "#2a3f5f",
           "arrowhead": 0,
           "arrowwidth": 1
          },
          "autotypenumbers": "strict",
          "coloraxis": {
           "colorbar": {
            "outlinewidth": 0,
            "ticks": ""
           }
          },
          "colorscale": {
           "diverging": [
            [
             0,
             "#8e0152"
            ],
            [
             0.1,
             "#c51b7d"
            ],
            [
             0.2,
             "#de77ae"
            ],
            [
             0.3,
             "#f1b6da"
            ],
            [
             0.4,
             "#fde0ef"
            ],
            [
             0.5,
             "#f7f7f7"
            ],
            [
             0.6,
             "#e6f5d0"
            ],
            [
             0.7,
             "#b8e186"
            ],
            [
             0.8,
             "#7fbc41"
            ],
            [
             0.9,
             "#4d9221"
            ],
            [
             1,
             "#276419"
            ]
           ],
           "sequential": [
            [
             0,
             "#0d0887"
            ],
            [
             0.1111111111111111,
             "#46039f"
            ],
            [
             0.2222222222222222,
             "#7201a8"
            ],
            [
             0.3333333333333333,
             "#9c179e"
            ],
            [
             0.4444444444444444,
             "#bd3786"
            ],
            [
             0.5555555555555556,
             "#d8576b"
            ],
            [
             0.6666666666666666,
             "#ed7953"
            ],
            [
             0.7777777777777778,
             "#fb9f3a"
            ],
            [
             0.8888888888888888,
             "#fdca26"
            ],
            [
             1,
             "#f0f921"
            ]
           ],
           "sequentialminus": [
            [
             0,
             "#0d0887"
            ],
            [
             0.1111111111111111,
             "#46039f"
            ],
            [
             0.2222222222222222,
             "#7201a8"
            ],
            [
             0.3333333333333333,
             "#9c179e"
            ],
            [
             0.4444444444444444,
             "#bd3786"
            ],
            [
             0.5555555555555556,
             "#d8576b"
            ],
            [
             0.6666666666666666,
             "#ed7953"
            ],
            [
             0.7777777777777778,
             "#fb9f3a"
            ],
            [
             0.8888888888888888,
             "#fdca26"
            ],
            [
             1,
             "#f0f921"
            ]
           ]
          },
          "colorway": [
           "#636efa",
           "#EF553B",
           "#00cc96",
           "#ab63fa",
           "#FFA15A",
           "#19d3f3",
           "#FF6692",
           "#B6E880",
           "#FF97FF",
           "#FECB52"
          ],
          "font": {
           "color": "#2a3f5f"
          },
          "geo": {
           "bgcolor": "white",
           "lakecolor": "white",
           "landcolor": "#E5ECF6",
           "showlakes": true,
           "showland": true,
           "subunitcolor": "white"
          },
          "hoverlabel": {
           "align": "left"
          },
          "hovermode": "closest",
          "mapbox": {
           "style": "light"
          },
          "paper_bgcolor": "white",
          "plot_bgcolor": "#E5ECF6",
          "polar": {
           "angularaxis": {
            "gridcolor": "white",
            "linecolor": "white",
            "ticks": ""
           },
           "bgcolor": "#E5ECF6",
           "radialaxis": {
            "gridcolor": "white",
            "linecolor": "white",
            "ticks": ""
           }
          },
          "scene": {
           "xaxis": {
            "backgroundcolor": "#E5ECF6",
            "gridcolor": "white",
            "gridwidth": 2,
            "linecolor": "white",
            "showbackground": true,
            "ticks": "",
            "zerolinecolor": "white"
           },
           "yaxis": {
            "backgroundcolor": "#E5ECF6",
            "gridcolor": "white",
            "gridwidth": 2,
            "linecolor": "white",
            "showbackground": true,
            "ticks": "",
            "zerolinecolor": "white"
           },
           "zaxis": {
            "backgroundcolor": "#E5ECF6",
            "gridcolor": "white",
            "gridwidth": 2,
            "linecolor": "white",
            "showbackground": true,
            "ticks": "",
            "zerolinecolor": "white"
           }
          },
          "shapedefaults": {
           "line": {
            "color": "#2a3f5f"
           }
          },
          "ternary": {
           "aaxis": {
            "gridcolor": "white",
            "linecolor": "white",
            "ticks": ""
           },
           "baxis": {
            "gridcolor": "white",
            "linecolor": "white",
            "ticks": ""
           },
           "bgcolor": "#E5ECF6",
           "caxis": {
            "gridcolor": "white",
            "linecolor": "white",
            "ticks": ""
           }
          },
          "title": {
           "x": 0.05
          },
          "xaxis": {
           "automargin": true,
           "gridcolor": "white",
           "linecolor": "white",
           "ticks": "",
           "title": {
            "standoff": 15
           },
           "zerolinecolor": "white",
           "zerolinewidth": 2
          },
          "yaxis": {
           "automargin": true,
           "gridcolor": "white",
           "linecolor": "white",
           "ticks": "",
           "title": {
            "standoff": 15
           },
           "zerolinecolor": "white",
           "zerolinewidth": 2
          }
         }
        },
        "title": {
         "text": "Intermediate Values Plot"
        },
        "xaxis": {
         "title": {
          "text": "Step"
         }
        },
        "yaxis": {
         "title": {
          "text": "Intermediate Value"
         }
        }
       }
      }
     },
     "metadata": {},
     "output_type": "display_data"
    }
   ],
   "source": [
    "optuna.visualization.plot_intermediate_values(study)"
   ]
  },
  {
   "cell_type": "code",
   "execution_count": null,
   "metadata": {},
   "outputs": [],
   "source": []
  }
 ],
 "metadata": {
  "interpreter": {
   "hash": "25c3f71c774a1ecca1776a9ee2a0c2bce270bd6438b774e29cfbb5e290187295"
  },
  "kernelspec": {
   "display_name": "Python 3.7.9 64-bit",
   "language": "python",
   "name": "python3"
  },
  "language_info": {
   "codemirror_mode": {
    "name": "ipython",
    "version": 3
   },
   "file_extension": ".py",
   "mimetype": "text/x-python",
   "name": "python",
   "nbconvert_exporter": "python",
   "pygments_lexer": "ipython3",
   "version": "3.7.9"
  },
  "orig_nbformat": 4
 },
 "nbformat": 4,
 "nbformat_minor": 2
}
